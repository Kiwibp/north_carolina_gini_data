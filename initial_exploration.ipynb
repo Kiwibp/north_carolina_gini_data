{
 "cells": [
  {
   "cell_type": "code",
   "execution_count": 2,
   "metadata": {
    "collapsed": true
   },
   "outputs": [],
   "source": [
    "import pandas as pd"
   ]
  },
  {
   "cell_type": "code",
   "execution_count": 3,
   "metadata": {
    "collapsed": true
   },
   "outputs": [],
   "source": [
    "df = pd.read_csv('gini.csv')"
   ]
  },
  {
   "cell_type": "code",
   "execution_count": 4,
   "metadata": {},
   "outputs": [
    {
     "data": {
      "text/html": [
       "<div>\n",
       "<style scoped>\n",
       "    .dataframe tbody tr th:only-of-type {\n",
       "        vertical-align: middle;\n",
       "    }\n",
       "\n",
       "    .dataframe tbody tr th {\n",
       "        vertical-align: top;\n",
       "    }\n",
       "\n",
       "    .dataframe thead th {\n",
       "        text-align: right;\n",
       "    }\n",
       "</style>\n",
       "<table border=\"1\" class=\"dataframe\">\n",
       "  <thead>\n",
       "    <tr style=\"text-align: right;\">\n",
       "      <th></th>\n",
       "      <th>NAME</th>\n",
       "      <th>County</th>\n",
       "      <th>GINI Index</th>\n",
       "    </tr>\n",
       "  </thead>\n",
       "  <tbody>\n",
       "    <tr>\n",
       "      <th>0</th>\n",
       "      <td>Henderson County, North Carolina</td>\n",
       "      <td>Henderson County, North Carolina</td>\n",
       "      <td>0.3956</td>\n",
       "    </tr>\n",
       "    <tr>\n",
       "      <th>1</th>\n",
       "      <td>Johnston County, North Carolina</td>\n",
       "      <td>Johnston County, North Carolina</td>\n",
       "      <td>0.3966</td>\n",
       "    </tr>\n",
       "    <tr>\n",
       "      <th>2</th>\n",
       "      <td>Onslow County, North Carolina</td>\n",
       "      <td>Onslow County, North Carolina</td>\n",
       "      <td>0.3966</td>\n",
       "    </tr>\n",
       "    <tr>\n",
       "      <th>3</th>\n",
       "      <td>Rowan County, North Carolina</td>\n",
       "      <td>Rowan County, North Carolina</td>\n",
       "      <td>0.4072</td>\n",
       "    </tr>\n",
       "    <tr>\n",
       "      <th>4</th>\n",
       "      <td>Cumberland County, North Carolina</td>\n",
       "      <td>Cumberland County, North Carolina</td>\n",
       "      <td>0.4153</td>\n",
       "    </tr>\n",
       "    <tr>\n",
       "      <th>5</th>\n",
       "      <td>Randolph County, North Carolina</td>\n",
       "      <td>Randolph County, North Carolina</td>\n",
       "      <td>0.4172</td>\n",
       "    </tr>\n",
       "    <tr>\n",
       "      <th>6</th>\n",
       "      <td>Rockingham County, North Carolina</td>\n",
       "      <td>Rockingham County, North Carolina</td>\n",
       "      <td>0.4178</td>\n",
       "    </tr>\n",
       "    <tr>\n",
       "      <th>7</th>\n",
       "      <td>Rutherford County, North Carolina</td>\n",
       "      <td>Rutherford County, North Carolina</td>\n",
       "      <td>0.4270</td>\n",
       "    </tr>\n",
       "    <tr>\n",
       "      <th>8</th>\n",
       "      <td>Harnett County, North Carolina</td>\n",
       "      <td>Harnett County, North Carolina</td>\n",
       "      <td>0.4276</td>\n",
       "    </tr>\n",
       "    <tr>\n",
       "      <th>9</th>\n",
       "      <td>Davidson County, North Carolina</td>\n",
       "      <td>Davidson County, North Carolina</td>\n",
       "      <td>0.4281</td>\n",
       "    </tr>\n",
       "  </tbody>\n",
       "</table>\n",
       "</div>"
      ],
      "text/plain": [
       "                                NAME                             County  \\\n",
       "0   Henderson County, North Carolina   Henderson County, North Carolina   \n",
       "1    Johnston County, North Carolina    Johnston County, North Carolina   \n",
       "2      Onslow County, North Carolina      Onslow County, North Carolina   \n",
       "3       Rowan County, North Carolina       Rowan County, North Carolina   \n",
       "4  Cumberland County, North Carolina  Cumberland County, North Carolina   \n",
       "5    Randolph County, North Carolina    Randolph County, North Carolina   \n",
       "6  Rockingham County, North Carolina  Rockingham County, North Carolina   \n",
       "7  Rutherford County, North Carolina  Rutherford County, North Carolina   \n",
       "8     Harnett County, North Carolina     Harnett County, North Carolina   \n",
       "9    Davidson County, North Carolina    Davidson County, North Carolina   \n",
       "\n",
       "   GINI Index  \n",
       "0      0.3956  \n",
       "1      0.3966  \n",
       "2      0.3966  \n",
       "3      0.4072  \n",
       "4      0.4153  \n",
       "5      0.4172  \n",
       "6      0.4178  \n",
       "7      0.4270  \n",
       "8      0.4276  \n",
       "9      0.4281  "
      ]
     },
     "execution_count": 4,
     "metadata": {},
     "output_type": "execute_result"
    }
   ],
   "source": [
    "df.head(10)"
   ]
  },
  {
   "cell_type": "code",
   "execution_count": 5,
   "metadata": {},
   "outputs": [
    {
     "data": {
      "text/html": [
       "<div>\n",
       "<style scoped>\n",
       "    .dataframe tbody tr th:only-of-type {\n",
       "        vertical-align: middle;\n",
       "    }\n",
       "\n",
       "    .dataframe tbody tr th {\n",
       "        vertical-align: top;\n",
       "    }\n",
       "\n",
       "    .dataframe thead th {\n",
       "        text-align: right;\n",
       "    }\n",
       "</style>\n",
       "<table border=\"1\" class=\"dataframe\">\n",
       "  <thead>\n",
       "    <tr style=\"text-align: right;\">\n",
       "      <th></th>\n",
       "      <th>NAME</th>\n",
       "      <th>County</th>\n",
       "      <th>GINI Index</th>\n",
       "    </tr>\n",
       "  </thead>\n",
       "  <tbody>\n",
       "    <tr>\n",
       "      <th>35</th>\n",
       "      <td>Moore County, North Carolina</td>\n",
       "      <td>Moore County, North Carolina</td>\n",
       "      <td>0.4819</td>\n",
       "    </tr>\n",
       "    <tr>\n",
       "      <th>36</th>\n",
       "      <td>Robeson County, North Carolina</td>\n",
       "      <td>Robeson County, North Carolina</td>\n",
       "      <td>0.4876</td>\n",
       "    </tr>\n",
       "    <tr>\n",
       "      <th>37</th>\n",
       "      <td>Mecklenburg County, North Carolina</td>\n",
       "      <td>Mecklenburg County, North Carolina</td>\n",
       "      <td>0.4957</td>\n",
       "    </tr>\n",
       "    <tr>\n",
       "      <th>38</th>\n",
       "      <td>Forsyth County, North Carolina</td>\n",
       "      <td>Forsyth County, North Carolina</td>\n",
       "      <td>0.5039</td>\n",
       "    </tr>\n",
       "    <tr>\n",
       "      <th>39</th>\n",
       "      <td>Orange County, North Carolina</td>\n",
       "      <td>Orange County, North Carolina</td>\n",
       "      <td>0.5337</td>\n",
       "    </tr>\n",
       "  </tbody>\n",
       "</table>\n",
       "</div>"
      ],
      "text/plain": [
       "                                  NAME                              County  \\\n",
       "35        Moore County, North Carolina        Moore County, North Carolina   \n",
       "36      Robeson County, North Carolina      Robeson County, North Carolina   \n",
       "37  Mecklenburg County, North Carolina  Mecklenburg County, North Carolina   \n",
       "38      Forsyth County, North Carolina      Forsyth County, North Carolina   \n",
       "39       Orange County, North Carolina       Orange County, North Carolina   \n",
       "\n",
       "    GINI Index  \n",
       "35      0.4819  \n",
       "36      0.4876  \n",
       "37      0.4957  \n",
       "38      0.5039  \n",
       "39      0.5337  "
      ]
     },
     "execution_count": 5,
     "metadata": {},
     "output_type": "execute_result"
    }
   ],
   "source": [
    "df.tail()"
   ]
  },
  {
   "cell_type": "code",
   "execution_count": 7,
   "metadata": {},
   "outputs": [
    {
     "name": "stdout",
     "output_type": "stream",
     "text": [
      "mean of country GINI scores is 0.45045\n"
     ]
    }
   ],
   "source": [
    "gini_mean = df['GINI Index'].mean()\n",
    "print('mean of country GINI scores is {}'.format(gini_mean))"
   ]
  },
  {
   "cell_type": "code",
   "execution_count": null,
   "metadata": {
    "collapsed": true
   },
   "outputs": [],
   "source": []
  }
 ],
 "metadata": {
  "kernelspec": {
   "display_name": "my-py3",
   "language": "python",
   "name": "my-py3"
  },
  "language_info": {
   "codemirror_mode": {
    "name": "ipython",
    "version": 3
   },
   "file_extension": ".py",
   "mimetype": "text/x-python",
   "name": "python",
   "nbconvert_exporter": "python",
   "pygments_lexer": "ipython3",
   "version": "3.6.5"
  }
 },
 "nbformat": 4,
 "nbformat_minor": 2
}
